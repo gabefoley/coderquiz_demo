{
 "cells": [
  {
   "cell_type": "markdown",
   "metadata": {},
   "source": [
    "# Making changes on deployed Coder Quiz\n",
    "This notebook talks through the steps of deploying any changes you make to the live, student-accessible version of Coder Quiz."
   ]
  },
  {
   "cell_type": "markdown",
   "metadata": {},
   "source": [
    "## 1. Push changes to the git repo\n",
    "Make sure the changes you've made are all pushed to https://github.com/gabefoley/coderquiz\n",
    "\n",
    "Because this is a private repository, please contact Gabe Foley at gabriel.foley@uqconnect.edu.au if you need to be added to it.\n",
    "\n",
    "Also, because this is a private repository **that contains questions and answers** please don't share this code anywhere or upload it to a public repository."
   ]
  },
  {
   "cell_type": "markdown",
   "metadata": {},
   "source": [
    "## 2. SSH into bioinf.scmb.uq.edu.au\n",
    "\n",
    "Again, this is a private server so please ask Gabe Foley at gabriel.foley@uqconnect.edu.au if you don't have the appropriate admin rights but need them"
   ]
  },
  {
   "cell_type": "markdown",
   "metadata": {},
   "source": [
    "## 3. Navigate to the Coder Quiz folder and pull the changes from the git repo\n",
    "```\n",
    "cd /var/www/PythonApps/coderquiz\n",
    "sudo git pull\n",
    "```\n",
    "\n",
    "Note: because this is a private repo, you'll have to enter both your admin credentials for the server and your credentials for the git repo"
   ]
  },
  {
   "cell_type": "markdown",
   "metadata": {},
   "source": [
    "## 4. Restart nginx and uwsgi to see the changes\n",
    "```\n",
    "sudo service nginx restart\n",
    "sudo service uwsgi restart\n",
    "```\n",
    "\n",
    "If you navigate to http://bioinf.scmb.uq.edu.au:81/coderquiz/ you should now see your changes."
   ]
  },
  {
   "cell_type": "markdown",
   "metadata": {},
   "source": [
    "## 5. If you need to make changes to the database\n",
    "Follow the instructions in Step 5: Making a table in the database in the Adding_a_new_quiz notebook (stored in this folder)\n",
    "\n",
    "Open the postgres command line with the following command (changing database name `coderquiz2019` as appropriate) -\n",
    "```\n",
    "psql coderquiz2019 -U postgres\n",
    "```\n",
    "\n",
    "Some useful commands to get you started -\n",
    "\n",
    "**Display all tables in database**\n",
    "\n",
    "\n",
    "```\n",
    "\\dt\n",
    "```\n",
    "\n",
    "**Display all entries in a given table**\n",
    "\n",
    "```\n",
    "select * from scie2100practical1;\n",
    "```\n",
    "\n",
    "**Delete a table and all of its contents (WARNING: CAN'T BE UNDONE)**\n",
    "\n",
    "```\n",
    "drop table scie2100practical1;\n",
    "```\n",
    "\n",
    "\n",
    "**Delete a user with username `12345678` (WARNING: CAN'T BE UNDONE)**\n",
    "```\n",
    "select * from users;\n",
    "delete from users where users.studentno = '12345678';\n",
    "```"
   ]
  },
  {
   "cell_type": "code",
   "execution_count": null,
   "metadata": {},
   "outputs": [],
   "source": []
  }
 ],
 "metadata": {
  "kernelspec": {
   "display_name": "Python 3",
   "language": "python",
   "name": "python3"
  },
  "language_info": {
   "codemirror_mode": {
    "name": "ipython",
    "version": 3
   },
   "file_extension": ".py",
   "mimetype": "text/x-python",
   "name": "python",
   "nbconvert_exporter": "python",
   "pygments_lexer": "ipython3",
   "version": "3.7.2"
  }
 },
 "nbformat": 4,
 "nbformat_minor": 2
}
