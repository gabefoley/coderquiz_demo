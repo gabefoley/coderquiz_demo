{
 "cells": [
  {
   "cell_type": "markdown",
   "metadata": {},
   "source": [
    "# Steps for installing Coder Quiz locally\n",
    "1. Clone the repository\n",
    "2. Install the required Python modules\n",
    "3. Install a PostgreSQL database\n",
    "4. Create the tables needed in the database\n",
    "5. Check everything works\n"
   ]
  },
  {
   "cell_type": "markdown",
   "metadata": {},
   "source": [
    "# Step 1: Clone the repository\n",
    "\n",
    "The repository is here - https://github.com/gabefoley/coderquiz\n",
    "\n",
    "Because this is a private repository, please contact Gabe Foley at gabriel.foley@uqconnect.edu.au to ask to be added to it.\n",
    "\n",
    "Also, because this is a private repository **that contains questions and answers** please don't share this code anywhere or upload it to a public repository.\n",
    "\n",
    "Once you have access you can just\n",
    "\n",
    "```\n",
    "git clone https://github.com/gabefoley/coderquiz\n",
    "```\n"
   ]
  },
  {
   "cell_type": "markdown",
   "metadata": {},
   "source": [
    "# Step 2. Install the required Python modules\n",
    "\n",
    "Coder Quiz uses pipenv - https://pipenv.readthedocs.io/en/latest/\n",
    "\n",
    "So, the easiest way to install all the required modules is to use pipenv, if you don't already have pipenv installed then -\n",
    "\n",
    "```\n",
    "pip install pipenv\n",
    "```\n",
    "\n",
    "Then cd into the cloned directory and type\n",
    "\n",
    "```\n",
    "pipenv install\n",
    "```\n",
    "\n",
    "pipenv will automatically create a virtual environment for you and install all the required modules. Coder Quiz also provides a requirements.txt if you'd prefer to use a different virtual environment manager or just install the modules directly into your default Python interpreter.\n",
    "\n",
    "```\n",
    "pip install -r requirements.txt\n",
    "```\n",
    "\n",
    "Make sure you set the interpreter in your Python IDE to be accessing the interpreter from the correct virtual environment. If you used pipenv you can check where the virtual environment has been installed with the following command -\n",
    "\n",
    "```\n",
    " pipenv --venv\n",
    "```\n",
    "\n"
   ]
  },
  {
   "cell_type": "markdown",
   "metadata": {},
   "source": [
    "# Step 3. Install a PostgresQL database\n",
    "\n",
    "Coder Quiz uses a PostgreSQL database as the backend for storing and retrieving answers to the quizes. In order to run it locally, you should install PostgresQL - https://www.postgresql.org/download/\n",
    "\n",
    "**Install a user and create the Coder Quiz database**\n"
   ]
  },
  {
   "cell_type": "markdown",
   "metadata": {},
   "source": [
    "# Step 4. Create the tables needed in the database\n",
    "\n",
    "Start psql\n",
    "\n",
    "```\n",
    "psql coderquiz2019 -U postgres\n",
    "```\n",
    "\n",
    "Copy the table definitions (you can find these in `install/postgres_table_instructions`) and paste them into the postgres command line and hit enter to create all the tables."
   ]
  },
  {
   "cell_type": "markdown",
   "metadata": {},
   "source": [
    "# Step 5. Check everything works"
   ]
  },
  {
   "cell_type": "markdown",
   "metadata": {},
   "source": [
    "Start the Flask server by entering the following at the command line (from within the Coder Quiz folder)\n",
    "\n",
    "```\n",
    "export FLASK_APP=routes\n",
    "flask run\n",
    "```\n",
    "\n",
    "Alternatively, you can start your Python IDE and run the `routes.py` module.\n",
    "\n",
    "You will be provided with a url - http://127.0.0.1:5000/ \n",
    "\n",
    "Enter this into a browser and then add /coderquiz to the end -  http://127.0.0.1:5000/coderquiz\n",
    "\n",
    "And you should be able to access a local version of Coder Quiz.\n",
    "\n",
    "Sign up for an account and try filling out the Practice Quiz, to ensure submitting works, then check your submission to ensure that retrieving content works."
   ]
  },
  {
   "cell_type": "code",
   "execution_count": null,
   "metadata": {},
   "outputs": [],
   "source": []
  }
 ],
 "metadata": {
  "kernelspec": {
   "display_name": "Python 3",
   "language": "python",
   "name": "python3"
  },
  "language_info": {
   "codemirror_mode": {
    "name": "ipython",
    "version": 3
   },
   "file_extension": ".py",
   "mimetype": "text/x-python",
   "name": "python",
   "nbconvert_exporter": "python",
   "pygments_lexer": "ipython3",
   "version": "3.7.2"
  }
 },
 "nbformat": 4,
 "nbformat_minor": 2
}
