{
 "cells": [
  {
   "cell_type": "markdown",
   "metadata": {},
   "source": [
    "## Marking the weekly Practicals"
   ]
  },
  {
   "cell_type": "markdown",
   "metadata": {},
   "source": [
    "### Login to Coder Quiz"
   ]
  },
  {
   "cell_type": "markdown",
   "metadata": {},
   "source": [
    "Login to Coder Quiz as a tutor\n",
    "\n",
    "Click the link - `Generate a marking report for all students`\n",
    "\n",
    "This will list all students registered for Coder Quiz, sorted into five groups\n",
    "\n",
    "** Correct ** - all answers have been supplied and validated\n",
    "* Scores full marks \n",
    "\n",
    "** Complete but incorrect** - all answers have been supplied and some are wrong\n",
    "* Scores full marks **IF** the incorrect answers demonstrate an attempt or some understanding of the question even if they failed to complete it. Answers such as \"I don't know\" or \"I couldn't do this\" are unacceptable (score 0 marks) while something like \"I tried to do *this* to answer the question but it didn't work\" would still be awarded full marks.\n",
    "\n",
    "** Incomplete ** - not all answers have been supplied\n",
    "* Scores 0 marks\n",
    "\n",
    "** Late ** - the only response given was late\n",
    "* Scores 0 marks\n",
    "\n",
    "** Missing ** - no submission has been made for this Practical\n",
    "* Scores 0 marks\n",
    "\n"
   ]
  },
  {
   "cell_type": "markdown",
   "metadata": {},
   "source": [
    "### Checking on Coder Quiz"
   ]
  },
  {
   "cell_type": "markdown",
   "metadata": {},
   "source": [
    "All responses still need to be looked at and checked - verify that responses given in the Correct category make sense, and that in other categories a genuine attempt at a question has been provided.\n",
    "\n",
    "Clicking on the name will open the full list of responses for a Practical for that student.\n",
    "\n",
    "Note that it will be specified if the submission is late, and that the correct submission might not be the most recent one (i.e. to be sorted into the Correct category you only have to enter a correct submission before the due date, not have your most recent submission as the correct one)\n",
    "\n",
    "Within each category student numbers are sorted into ascending order to help speed up inputting the marks into Blackboard"
   ]
  },
  {
   "cell_type": "code",
   "execution_count": null,
   "metadata": {
    "collapsed": true
   },
   "outputs": [],
   "source": []
  }
 ],
 "metadata": {
  "kernelspec": {
   "display_name": "Python 3",
   "language": "python",
   "name": "python3"
  },
  "language_info": {
   "codemirror_mode": {
    "name": "ipython",
    "version": 3
   },
   "file_extension": ".py",
   "mimetype": "text/x-python",
   "name": "python",
   "nbconvert_exporter": "python",
   "pygments_lexer": "ipython3",
   "version": "3.7.2"
  }
 },
 "nbformat": 4,
 "nbformat_minor": 2
}
