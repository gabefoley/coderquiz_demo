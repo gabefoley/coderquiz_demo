{
 "cells": [
  {
   "cell_type": "markdown",
   "metadata": {},
   "source": [
    "# Make sure you're making these changes to the repository and refreshing the web server to see them \n",
    "\n",
    "# For more info see Notebook 4_Making_changes_on_deployed_Coder_Quiz"
   ]
  },
  {
   "cell_type": "markdown",
   "metadata": {},
   "source": [
    "## Making a quiz live\n",
    "All the links to Practicals and In Class Assessments for both SCIE2100 and BIOL3014 are available in `landing.html`\n",
    "\n",
    "They look like this -\n",
    "```\n",
    "<a href=\"{{ url_for('scie2100_practical4') }}\">SCIE2100 Practical 4</a><br>\n",
    "```\n",
    "\n",
    "Make sure that it is uncommented and move it above the conditional -\n",
    "\n",
    "```\n",
    "    {%   if admin %}\n",
    "\n",
    "```\n",
    "\n",
    "If you want to make it available to all students"
   ]
  },
  {
   "cell_type": "markdown",
   "metadata": {},
   "source": [
    "## Updating viewing and marking forms when switching between SCIE2100 and BIOL3014\n",
    "Both `SubmissionForm` and `MarkingForm` in `forms.py` can either return SCIE2100 or BIOL3014 options, and they need to be uncommented as needed when the course switches from SCIE2100 to BIOL3014"
   ]
  },
  {
   "cell_type": "code",
   "execution_count": null,
   "metadata": {},
   "outputs": [],
   "source": []
  }
 ],
 "metadata": {
  "kernelspec": {
   "display_name": "Python 3",
   "language": "python",
   "name": "python3"
  },
  "language_info": {
   "codemirror_mode": {
    "name": "ipython",
    "version": 3
   },
   "file_extension": ".py",
   "mimetype": "text/x-python",
   "name": "python",
   "nbconvert_exporter": "python",
   "pygments_lexer": "ipython3",
   "version": "3.7.2"
  }
 },
 "nbformat": 4,
 "nbformat_minor": 2
}
