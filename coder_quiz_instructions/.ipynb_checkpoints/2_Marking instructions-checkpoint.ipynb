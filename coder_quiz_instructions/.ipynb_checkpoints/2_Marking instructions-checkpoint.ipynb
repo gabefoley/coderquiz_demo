{
 "cells": [
  {
   "cell_type": "markdown",
   "metadata": {},
   "source": [
    "## Marking the weekly Practicals"
   ]
  },
  {
   "cell_type": "markdown",
   "metadata": {},
   "source": [
    "### Login to Coder Quiz"
   ]
  },
  {
   "cell_type": "markdown",
   "metadata": {},
   "source": [
    "Login to Coder Quiz as a tutor\n",
    "\n",
    "Click the link - `Generate a marking report for all students`\n",
    "\n",
    "This will list all students registered for Coder Quiz, sorted into five groups\n",
    "\n",
    "** Correct ** - all answers have been supplied and validated\n",
    "\n",
    "** Complete but incorrect** - all answers have been supplied and some are wrong\n",
    "\n",
    "** Incomplete ** - not all answers have been supplied\n",
    "\n",
    "** Late ** - the only response given was late\n",
    "\n",
    "** Missing ** - no submission has been made for this Practical\n",
    "\n"
   ]
  },
  {
   "cell_type": "markdown",
   "metadata": {},
   "source": [
    "### Checking on Coder Quiz"
   ]
  },
  {
   "cell_type": "markdown",
   "metadata": {},
   "source": [
    "All responses still need to be looked at and checked - verify that responses given in the Correct category make sense, and that in other categories a genuine attempt at a question has been provided.\n",
    "\n",
    "Clicking on the name will open the full list of responses for a Practical for that student.\n",
    "\n",
    "Note that it will be specified if the submission is late, and that the correct submission might not be the most recent one (i.e. to be sorted into the Correct category you only have to enter a correct submission before the due date, not have your most recent submission as the correct one)\n",
    "\n",
    "Within each category student numbers are sorted into ascending order to help speed up inputting the marks into Blackboard"
   ]
  },
  {
   "cell_type": "markdown",
   "metadata": {},
   "source": [
    "### Entering marks on Blackboard"
   ]
  },
  {
   "cell_type": "markdown",
   "metadata": {},
   "source": [
    "Login to Blackboard as a tutor\n",
    "\n",
    "* Click on Grade Centre\n",
    "* Click on Full Grade Centre\n",
    "* Sort The column Child Course by ascending (to move the BINF6000 students to the bottom of the marking grid)\n",
    "* Sort the column Student ID by ascending (to get the student list into the same order as Coder Quiz)\n",
    "\n",
    "Go through and enter either 3 (Pass), 0 (Fail) or leave empty (incomplete)"
   ]
  },
  {
   "cell_type": "markdown",
   "metadata": {},
   "source": [
    "### 2018 Notes:\n",
    "\n",
    "Chia Hee Lee is in Coder Quiz as Eric Lee\n",
    "    "
   ]
  },
  {
   "cell_type": "code",
   "execution_count": null,
   "metadata": {
    "collapsed": true
   },
   "outputs": [],
   "source": []
  }
 ],
 "metadata": {
  "kernelspec": {
   "display_name": "Python 3",
   "language": "python",
   "name": "python3"
  },
  "language_info": {
   "codemirror_mode": {
    "name": "ipython",
    "version": 3
   },
   "file_extension": ".py",
   "mimetype": "text/x-python",
   "name": "python",
   "nbconvert_exporter": "python",
   "pygments_lexer": "ipython3",
   "version": "3.6.3"
  }
 },
 "nbformat": 4,
 "nbformat_minor": 2
}
