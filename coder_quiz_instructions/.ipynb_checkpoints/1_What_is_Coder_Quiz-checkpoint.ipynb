{
 "cells": [
  {
   "cell_type": "markdown",
   "metadata": {},
   "source": [
    "# What is Coder Quiz?"
   ]
  },
  {
   "cell_type": "markdown",
   "metadata": {},
   "source": [
    "## Basic overview\n",
    "\n",
    "Users signup for Coder Quiz and they get access to a series of quizzes (which are really forms that need to be validated).\n",
    "\n",
    "Users enter answers into the quiz forms and we take these reponses and run them through Python code in order to validate them.\n",
    "\n",
    "Users can check their answers as they progress through a quiz, and can submit their quiz.\n",
    "\n",
    "Quizzes can be designated to only accept correct (or blank) responses, or to accept any response.\n",
    "\n",
    "Tutors can check the results of an individual, or generate a marking report for all students for a given quiz.\n"
   ]
  },
  {
   "cell_type": "markdown",
   "metadata": {},
   "source": [
    "## Technical implementation\n",
    "\n",
    "The key programs / Python modules used to make Coder Quiz run are\n",
    "1. Python 3\n",
    "2. Flask (Python web-templating library)\n",
    "3. Postgres database (for storing and retrieving user submissions)\n",
    "4. WTForms (Form rendering and submission library)\n",
    "5. Jinja 2 (HTML / CSS templating library for Python)\n"
   ]
  },
  {
   "cell_type": "code",
   "execution_count": null,
   "metadata": {},
   "outputs": [],
   "source": []
  }
 ],
 "metadata": {
  "kernelspec": {
   "display_name": "Python 3",
   "language": "python",
   "name": "python3"
  },
  "language_info": {
   "codemirror_mode": {
    "name": "ipython",
    "version": 3
   },
   "file_extension": ".py",
   "mimetype": "text/x-python",
   "name": "python",
   "nbconvert_exporter": "python",
   "pygments_lexer": "ipython3",
   "version": "3.7.2"
  }
 },
 "nbformat": 4,
 "nbformat_minor": 2
}
